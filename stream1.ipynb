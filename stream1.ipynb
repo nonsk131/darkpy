{
 "cells": [
  {
   "cell_type": "markdown",
   "metadata": {},
   "source": [
    "Move around directories"
   ]
  },
  {
   "cell_type": "code",
   "execution_count": 2,
   "metadata": {},
   "outputs": [],
   "source": [
    "import os\n",
    "os.chdir('/Volumes/Nondh\\'s HDD/m12i_res7000_md/')"
   ]
  },
  {
   "cell_type": "code",
   "execution_count": 3,
   "metadata": {},
   "outputs": [],
   "source": [
    "import gizmo_analysis as gizmo\n",
    "import wutilities as ut\n",
    "import rockstar_analysis as rockstar"
   ]
  },
  {
   "cell_type": "code",
   "execution_count": 4,
   "metadata": {},
   "outputs": [
    {
     "name": "stdout",
     "output_type": "stream",
     "text": [
      "\n",
      "# in wutilities.simulation.Snapshot():\n",
      "  reading:  snapshot_times.txt\n",
      "  input redshift = 0:  using snapshot index = 600, redshift = 0.000\n",
      "\n",
      "\n",
      "# in gizmo_analysis.gizmo_io.Read():\n",
      "* reading header from:  output/snapdir_600/snapshot_600.0.hdf5\n",
      "  snapshot contains the following number of particles:\n",
      "    dark      (id = 1): 70514272 particles\n",
      "    dark.2    (id = 2): 5513331 particles\n",
      "    gas       (id = 0): 57060074 particles\n",
      "    star      (id = 4): 13976485 particles\n",
      "    blackhole (id = 5): 0 particles\n",
      "\n",
      "* reading species: ['star', 'dark']\n",
      "* reading particles from:\n",
      "    snapshot_600.0.hdf5\n",
      "    snapshot_600.1.hdf5\n",
      "    snapshot_600.2.hdf5\n",
      "    snapshot_600.3.hdf5\n",
      "\n",
      "  cannot find MUSIC config file: */*.conf\n",
      "! missing cosmological parameters, assuming the following (from AGORA box):\n",
      "  assuming omega_baryon = 0.0455\n",
      "  assuming sigma_8 = 0.807\n",
      "  assuming n_s = 0.961\n",
      "\n",
      "* checking sanity of particle properties\n",
      "\n",
      "* assigning center of galaxy/halo:\n",
      "  position = (41792.147, 44131.235, 46267.679) [kpc comoving]\n",
      "  velocity = (-52.5, 71.9, 95.2) [km / s]\n",
      "\n",
      "\n",
      "# in wutilities.simulation.Snapshot():\n",
      "  reading:  snapshot_times.txt\n",
      "  input redshift = 0:  using snapshot index = 600, redshift = 0.000\n",
      "\n",
      "\n",
      "# in rockstar_analysis.rockstar_io.IO():\n",
      "* read 25109 halos from:  halo_600.hdf5\n",
      "\n",
      "# in rockstar_analysis.rockstar_io.Particle():\n",
      "* read 25109 halos with star particles from:  star_600.hdf5\n",
      "\n"
     ]
    }
   ],
   "source": [
    "# read in particles and halos at present day\n",
    "part = gizmo.io.Read.read_snapshots(['star', 'dark'], 'redshift', 0)\n",
    "hal = rockstar.io.IO.read_catalogs('redshift', 0)"
   ]
  },
  {
   "cell_type": "code",
   "execution_count": 9,
   "metadata": {},
   "outputs": [
    {
     "data": {
      "text/plain": [
       "array([array([], dtype=int32), array([], dtype=int32),\n",
       "       array([], dtype=int32), ..., array([], dtype=int32),\n",
       "       array([], dtype=int32), array([], dtype=int32)], dtype=object)"
      ]
     },
     "execution_count": 9,
     "metadata": {},
     "output_type": "execute_result"
    }
   ],
   "source": [
    "hal['star.indices']"
   ]
  },
  {
   "cell_type": "code",
   "execution_count": 7,
   "metadata": {},
   "outputs": [
    {
     "data": {
      "text/plain": [
       "array([[66767.26081251, 33338.43269396, 33932.56150561],\n",
       "       [45775.6955822 , 44156.6346538 , 48521.62410745],\n",
       "       [46577.95875962, 45155.54312985, 48568.13059231],\n",
       "       ...,\n",
       "       [40880.57503257, 41838.63478439, 46003.25210661],\n",
       "       [40751.14753809, 41723.01529911, 45831.83965826],\n",
       "       [40763.37457623, 41689.45972354, 45872.69257229]])"
      ]
     },
     "execution_count": 7,
     "metadata": {},
     "output_type": "execute_result"
    }
   ],
   "source": [
    "part['star']['position']"
   ]
  },
  {
   "cell_type": "code",
   "execution_count": null,
   "metadata": {},
   "outputs": [],
   "source": []
  }
 ],
 "metadata": {
  "kernelspec": {
   "display_name": "Python 3",
   "language": "python",
   "name": "python3"
  },
  "language_info": {
   "codemirror_mode": {
    "name": "ipython",
    "version": 3
   },
   "file_extension": ".py",
   "mimetype": "text/x-python",
   "name": "python",
   "nbconvert_exporter": "python",
   "pygments_lexer": "ipython3",
   "version": "3.7.1"
  }
 },
 "nbformat": 4,
 "nbformat_minor": 2
}
